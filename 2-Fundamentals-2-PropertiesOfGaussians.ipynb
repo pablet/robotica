{
 "cells": [
  {
   "cell_type": "markdown",
   "metadata": {},
   "source": [
    "# Practice 2.2. Properties of the Gaussian distribution\n",
    "\n",
    "Once we have acquired a certain amount of familiarity with the gaussian distribution, we can go along some of its principal properties, which are the main reason of this distribution's wide usage in robotics."
   ]
  },
  {
   "cell_type": "code",
   "execution_count": null,
   "metadata": {},
   "outputs": [],
   "source": [
    "# Imports\n",
    "\n",
    "import numpy as np\n",
    "from numpy import random\n",
    "from scipy import stats\n",
    "from scipy import signal\n",
    "import matplotlib.pyplot as plt\n",
    "\n",
    "from ipywidgets import interact, interactive, fixed, interact_manual\n",
    "import ipywidgets as widgets"
   ]
  },
  {
   "cell_type": "markdown",
   "metadata": {},
   "source": [
    "## 2.2.1 Central limit theorem\n",
    "\n",
    "**Context.**\n",
    "\n",
    "**Property.** The sum of N independent and identically distributed (i.i.d.) random variables, i.e. that belong to the same distribution and are independant to each other, becomes increasingly Gaussian the larger is N.\n",
    "\n",
    "This property holds true regardless of the probability distribution was used to create the samples. It is one of the key concepts in probability, as it allows the generalization of many problems.\n",
    "\n",
    "You can see a video demonstration of this by running the cell bellow:"
   ]
  },
  {
   "cell_type": "code",
   "execution_count": null,
   "metadata": {},
   "outputs": [],
   "source": [
    "%%HTML\n",
    "<center>\n",
    "<iframe width=\"560\" height=\"315\" src=\"https://www.youtube.com/embed/dlbkaurTAUg?autoplay=0&mute=1\" frameborder=\"0\" allow=\"accelerometer; autoplay; encrypted-media; gyroscope; picture-in-picture\" allowfullscreen></iframe>\n",
    "</center>"
   ]
  },
  {
   "cell_type": "markdown",
   "metadata": {},
   "source": [
    "**Assigment.**\n",
    "\n",
    "We ask you to create a similar demonstration as the example above.\n",
    "\n",
    "- Complete the following `plot_sum_demo` function. This function returns a vector of length `v_length`, which results from the sum of `N` randomly generated vectors using an uniform distribution $[0, 1)$. Each random vector should have the same length (for example `v_lenght=100`).\n",
    "- Inside the function, plot the corresponding histogram.\n",
    "- Finally, check that the resulting figure has the shape of a gaussian. "
   ]
  },
  {
   "cell_type": "code",
   "execution_count": null,
   "metadata": {},
   "outputs": [],
   "source": [
    "def plot_sum_demo(v_length, N):\n",
    "    # TODO Complete function\n",
    "    raise NotImplementedError\n",
    "    \n",
    "v_length = 1000\n",
    "N = 10\n",
    "#interact(plot_sum, v_length=fixed(v_length), N=(0, 25, 1))"
   ]
  },
  {
   "cell_type": "markdown",
   "metadata": {},
   "source": [
    "## 2.2.2 Sum of random variables\n",
    "\n",
    "**Context.**\n",
    "\n",
    "The *sum of normal random variables* (not distributions) is a RV that also follows a gaussian distribution, which can be obtained from the *convolution* of these gaussians.\n",
    "\n",
    "**Assigment.**\n",
    "\n",
    "We ask you to generate vectors of `n` samples from the gaussian distributions $N(1,1)$ and $N(4,2)$.\n",
    "Sum them and plot the resulting histogram. Compare it visually to the pdf from a dist. $N(5,3)$ (in red).\n",
    "\n",
    "Compute the (discrete) convolution of two gaussian pdfs: $N(1,1)$ and $N(4,2)$. Check visually that it also corresponds to the pfd of $N(5,3)$.\n",
    "\n",
    "HINTS: \n",
    "\n",
    "- Generate both dist. with help of the module `scipy.stats` and find the convolution in the module `scipy.signal`. Docs: [Link](https://docs.scipy.org/doc/scipy/reference/)\n",
    "- For the convolution to scale properly you may need to multiply both pdfs by `delta` and then divide the resultting convolution by `delta`. Being `delta = 1/num_of_steps`. If `a` and `b` are your pdfs:\n",
    "  \n",
    "  ```python\n",
    "     c = conv(a*delta, b*delta)/delta\n",
    "  ```\n",
    "  \n",
    "![](images/fig2-2-2.png)"
   ]
  },
  {
   "cell_type": "code",
   "execution_count": null,
   "metadata": {},
   "outputs": [],
   "source": [
    "def sum_of_rvs_demo():\n",
    "    # TODO Complete function\n",
    "    raise NotImplementedError\n",
    "    \n",
    "#sum_of_rvs_demo()"
   ]
  },
  {
   "cell_type": "markdown",
   "metadata": {},
   "source": [
    "## 2.2.3 Product of gaussians\n",
    "\n",
    "**Context.**\n",
    "\n",
    "The weighted sum of two gaussians, results in a random variable which its the product of both.\n",
    "\n",
    "As we learned in the theoretical lesson, the product of 2 gaussians is defined as:\n",
    "\n",
    "$$\n",
    "     N\\left(\n",
    "        \\frac{\\sigma_2^2\\mu_1^2+\\sigma_1^2\\mu_2^2}\n",
    "        {\\sigma_1^2+\\sigma_2^2},\n",
    "         \\frac{\\sigma_1^2 \\sigma_ 2^2}\n",
    "         {\\sigma_1^2 + \\sigma_ 2^2}\n",
    "     \\right)\n",
    "$$\n",
    "\n",
    "**Assignment.**\n",
    "\n",
    "The similar to the previous exercise, but use the mean instead of the sum of the samples from $N(1,1)$ and $N(4,2)$. \n",
    "\n",
    "Draw the result and check that corresponds to the formula above.\n",
    "\n",
    "![](images/fig2-2-3.png)"
   ]
  },
  {
   "cell_type": "code",
   "execution_count": null,
   "metadata": {},
   "outputs": [],
   "source": [
    "def gaussian_product_demo():\n",
    "    # TODO Complete function\n",
    "    raise NotImplementedError\n",
    "\n",
    "#gaussian_product_demo()"
   ]
  },
  {
   "cell_type": "markdown",
   "metadata": {},
   "source": [
    "## 2.2.4 Linear transformation of gaussian random variables.\n",
    "\n",
    "**Context.**\n",
    "\n",
    "**Property.** The gaussian distributions are closed under linear transformations, i.e. when we apply a sum or product to normal random variables, the result is also a normal random variable.\n",
    "\n",
    "This is also a remarkable property, for example in the field of robotics we can *operate normally over random distributions* as long as we only use linear functions.\n",
    "Otherwise, if we are in need to apply a *non-linear transformation*(e.g. sine, cosine, ...), the resulting probability distribution *it will not correspond to any Gaussian pdf*, causing additional complications in the process.\n",
    "\n",
    "**Assignment.**\n",
    "\n",
    "- Generate a number `n_samples` of random samples from the dist. $N(1,1)$.\n",
    "- Then transform it following the expression $y = a*x + b$ and plot the result for $a=b=2$.\n",
    "- Finally, draw on top the pdf of $N(4,2)$ and check that both are the same.\n",
    "\n",
    "![](images/fig2-2-4.png)"
   ]
  },
  {
   "cell_type": "code",
   "execution_count": null,
   "metadata": {},
   "outputs": [],
   "source": [
    "def linear_transform_demo(n_samples, a, b):\n",
    "    \"\"\"Apply lineal transform. Generating x samples from N(1,1)\"\"\"\n",
    "    # TODO Complete function\n",
    "    raise NotImplementedError\n",
    " \n",
    "n_samples = 3000\n",
    "#linear_transform_demo(n_samples, 2, 2)\n",
    "#interact(linear_transform_demo, n_samples=fixed(n_samples), b=(-5, 5, 1), a=(1, 10, 1))"
   ]
  },
  {
   "cell_type": "markdown",
   "metadata": {},
   "source": [
    "## Student discussion\n",
    "In the cell below, discuss what has been done in the notebook, what you have found interesting, or any other relevant thought."
   ]
  },
  {
   "cell_type": "markdown",
   "metadata": {},
   "source": []
  }
 ],
 "metadata": {
  "kernelspec": {
   "display_name": "Python 3",
   "language": "python",
   "name": "python3"
  },
  "language_info": {
   "codemirror_mode": {
    "name": "ipython",
    "version": 3
   },
   "file_extension": ".py",
   "mimetype": "text/x-python",
   "name": "python",
   "nbconvert_exporter": "python",
   "pygments_lexer": "ipython3",
   "version": "3.7.3"
  }
 },
 "nbformat": 4,
 "nbformat_minor": 2
}
